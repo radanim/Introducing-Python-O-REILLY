{
  "nbformat": 4,
  "nbformat_minor": 0,
  "metadata": {
    "colab": {
      "name": "10과 객체와 클래스",
      "provenance": [],
      "authorship_tag": "ABX9TyPW3/IGnvE6yvUBoKdTDlPX",
      "include_colab_link": true
    },
    "kernelspec": {
      "name": "python3",
      "display_name": "Python 3"
    },
    "language_info": {
      "name": "python"
    }
  },
  "cells": [
    {
      "cell_type": "markdown",
      "metadata": {
        "id": "view-in-github",
        "colab_type": "text"
      },
      "source": [
        "<a href=\"https://colab.research.google.com/github/radanim/Introducing-Python-O-REILLY/blob/master/10%EA%B3%BC_%EA%B0%9D%EC%B2%B4%EC%99%80_%ED%81%B4%EB%9E%98%EC%8A%A4.ipynb\" target=\"_parent\"><img src=\"https://colab.research.google.com/assets/colab-badge.svg\" alt=\"Open In Colab\"/></a>"
      ]
    },
    {
      "cell_type": "code",
      "execution_count": null,
      "metadata": {
        "id": "qI-Yk2KpjAh4"
      },
      "outputs": [],
      "source": [
        "#객체는 데이터(변수, 속성)와 코드(함수, 메서드)를 포함하는 커스텀 자료구조 \n",
        "객체는 명사 메서드는 동사\n",
        "객체는 개별 사물 해당 메서드는 다른 사물과 상호작용하는 방법을 정의 \n",
        "클래스는 상자는 만드는 틀\n",
        "속성은 클래스나 객체 내부의 변수\n",
        "메서드는 클래스 또는 객체의 함수 \n",
        "_ _ : 던더 "
      ]
    },
    {
      "cell_type": "code",
      "source": [
        "class Car():\n",
        "  pass\n",
        "\n",
        "class yugo(Car):\n",
        "  pass"
      ],
      "metadata": {
        "id": "7XsQzaLloTqr"
      },
      "execution_count": 1,
      "outputs": []
    },
    {
      "cell_type": "code",
      "source": [
        "issubclass(yugo, Car)"
      ],
      "metadata": {
        "colab": {
          "base_uri": "https://localhost:8080/"
        },
        "id": "ljOOjax4oYHJ",
        "outputId": "34ae60a0-f9e4-4196-e6e9-dddcb4b0e684"
      },
      "execution_count": 3,
      "outputs": [
        {
          "output_type": "execute_result",
          "data": {
            "text/plain": [
              "True"
            ]
          },
          "metadata": {},
          "execution_count": 3
        }
      ]
    },
    {
      "cell_type": "code",
      "source": [
        "class person():\n",
        "  def __init__(self,name):\n",
        "    self.name=name\n",
        "\n",
        "class MDperson(person):\n",
        "  def __init__(self,name):\n",
        "    self.name=\"doctor\"+name\n",
        "\n",
        "class JDperson(person):\n",
        "  def __init__(self,name):\n",
        "    self.name=name+\", Esquire\""
      ],
      "metadata": {
        "id": "1u-7nsnaoedm"
      },
      "execution_count": 5,
      "outputs": []
    },
    {
      "cell_type": "code",
      "source": [
        "person=person('Fudd')\n",
        "doctor=MDperson('Fudd')\n",
        "lawyer=JDperson('Fudd')\n",
        "print(person.name)\n",
        "print(doctor.name)\n",
        "print(lawyer.name)"
      ],
      "metadata": {
        "colab": {
          "base_uri": "https://localhost:8080/"
        },
        "id": "hyM20H1ntTd6",
        "outputId": "11d735d3-0475-4337-ef19-5f85baf9ada9"
      },
      "execution_count": 6,
      "outputs": [
        {
          "output_type": "stream",
          "name": "stdout",
          "text": [
            "Fudd\n",
            "doctorFudd\n",
            "Fudd, Esquire\n"
          ]
        }
      ]
    },
    {
      "cell_type": "code",
      "source": [
        "자식클래스에서 메서드를 추가하거나 부모클래스에서 메서드를 오버라이드\n",
        "자식클래스에서 부모 클래스를 호출하고 싶다면 super() 메소드 사용"
      ],
      "metadata": {
        "id": "lnVS7SEXtRBh"
      },
      "execution_count": null,
      "outputs": []
    },
    {
      "cell_type": "code",
      "source": [
        "class person():\n",
        "  def __init__(self,name):\n",
        "    self.name=name\n",
        "    \n",
        "class emailperson(person):\n",
        "  def __init__(self,name,email):\n",
        "    super().__init__(name)\n",
        "    self.email=email"
      ],
      "metadata": {
        "id": "Z6OYtOA2yUk6"
      },
      "execution_count": 14,
      "outputs": []
    },
    {
      "cell_type": "code",
      "source": [
        "bob=emailperson('bob frapples','bob@frapples.com')\n",
        "bob.email"
      ],
      "metadata": {
        "colab": {
          "base_uri": "https://localhost:8080/",
          "height": 35
        },
        "id": "Wwu8a8wDzaVR",
        "outputId": "efb1076c-e5cf-4fc5-e2fe-444d93d27ff1"
      },
      "execution_count": 15,
      "outputs": [
        {
          "output_type": "execute_result",
          "data": {
            "text/plain": [
              "'bob@frapples.com'"
            ],
            "application/vnd.google.colaboratory.intrinsic+json": {
              "type": "string"
            }
          },
          "metadata": {},
          "execution_count": 15
        }
      ]
    },
    {
      "cell_type": "code",
      "source": [
        "bob.name"
      ],
      "metadata": {
        "colab": {
          "base_uri": "https://localhost:8080/",
          "height": 35
        },
        "id": "aTZCjVWV0Afg",
        "outputId": "2bf2dba9-7d47-4200-c8e9-766a3860590f"
      },
      "execution_count": 16,
      "outputs": [
        {
          "output_type": "execute_result",
          "data": {
            "text/plain": [
              "'bob frapples'"
            ],
            "application/vnd.google.colaboratory.intrinsic+json": {
              "type": "string"
            }
          },
          "metadata": {},
          "execution_count": 16
        }
      ]
    },
    {
      "cell_type": "code",
      "source": [
        "super() 메서드를 사용하여 person 클래스에서 일반 person 객체와 같은 방식으로 동작\n",
        "상속의 이점을 활용\n",
        "또 person 클래스의 정의가 바뀌면 상속받은 클래스의 속성과 메서드도 변경사항이 반영됨"
      ],
      "metadata": {
        "id": "BTMGx4810JCZ"
      },
      "execution_count": null,
      "outputs": []
    },
    {
      "cell_type": "code",
      "source": [
        "class Animal:\n",
        "  def says(self):\n",
        "    return 'I speak!'\n",
        "\n",
        "class Horse(Animal):\n",
        "  def says(self):\n",
        "    return 'Neigh!'\n",
        "\n",
        "class Donkey(Animal):\n",
        "  def says(self):\n",
        "    return 'Hee-haw!'\n",
        "\n",
        "class Mule(Donkey,Horse):\n",
        "  pass\n",
        "\n",
        "class Hinny(Horse,Donkey):\n",
        "  pass"
      ],
      "metadata": {
        "id": "3HlG-D0O0Tt3"
      },
      "execution_count": 17,
      "outputs": []
    },
    {
      "cell_type": "code",
      "source": [
        "mule=Mule()\n",
        "hinny=Hinny()\n",
        "mule.says()"
      ],
      "metadata": {
        "colab": {
          "base_uri": "https://localhost:8080/",
          "height": 35
        },
        "id": "2zjG-R7F1ejW",
        "outputId": "9c561ffb-e568-4aaa-e208-799f872e04a3"
      },
      "execution_count": 20,
      "outputs": [
        {
          "output_type": "execute_result",
          "data": {
            "text/plain": [
              "'Hee-haw!'"
            ],
            "application/vnd.google.colaboratory.intrinsic+json": {
              "type": "string"
            }
          },
          "metadata": {},
          "execution_count": 20
        }
      ]
    },
    {
      "cell_type": "code",
      "source": [
        "hinny.says()"
      ],
      "metadata": {
        "colab": {
          "base_uri": "https://localhost:8080/",
          "height": 35
        },
        "id": "8I4S4jis1oY9",
        "outputId": "35f8d84e-3ffd-450a-bc9b-4f44e31fea59"
      },
      "execution_count": 19,
      "outputs": [
        {
          "output_type": "execute_result",
          "data": {
            "text/plain": [
              "'Neigh!'"
            ],
            "application/vnd.google.colaboratory.intrinsic+json": {
              "type": "string"
            }
          },
          "metadata": {},
          "execution_count": 19
        }
      ]
    },
    {
      "cell_type": "code",
      "source": [
        "class fruit:\n",
        "  color='red'\n",
        "blueberry=fruit()\n",
        "fruit.color"
      ],
      "metadata": {
        "colab": {
          "base_uri": "https://localhost:8080/",
          "height": 35
        },
        "id": "G-QU5e1Z1qed",
        "outputId": "462d94dd-7a3b-4e14-fd85-f80b28a65903"
      },
      "execution_count": 23,
      "outputs": [
        {
          "output_type": "execute_result",
          "data": {
            "text/plain": [
              "'red'"
            ],
            "application/vnd.google.colaboratory.intrinsic+json": {
              "type": "string"
            }
          },
          "metadata": {},
          "execution_count": 23
        }
      ]
    },
    {
      "cell_type": "code",
      "source": [
        "blueberry.color"
      ],
      "metadata": {
        "colab": {
          "base_uri": "https://localhost:8080/",
          "height": 35
        },
        "id": "nroP_xCCRbt0",
        "outputId": "9cd54b88-ee14-4e87-cbc5-77a520acf537"
      },
      "execution_count": 25,
      "outputs": [
        {
          "output_type": "execute_result",
          "data": {
            "text/plain": [
              "'red'"
            ],
            "application/vnd.google.colaboratory.intrinsic+json": {
              "type": "string"
            }
          },
          "metadata": {},
          "execution_count": 25
        }
      ]
    },
    {
      "cell_type": "code",
      "source": [
        "blueberry.color='blue'\n",
        "blueberry.color"
      ],
      "metadata": {
        "colab": {
          "base_uri": "https://localhost:8080/",
          "height": 35
        },
        "id": "kNc5GeS1Rgtj",
        "outputId": "5121313f-e2d2-43c5-eab1-bb5b182315d9"
      },
      "execution_count": 26,
      "outputs": [
        {
          "output_type": "execute_result",
          "data": {
            "text/plain": [
              "'blue'"
            ],
            "application/vnd.google.colaboratory.intrinsic+json": {
              "type": "string"
            }
          },
          "metadata": {},
          "execution_count": 26
        }
      ]
    },
    {
      "cell_type": "code",
      "source": [
        "fruit.color"
      ],
      "metadata": {
        "colab": {
          "base_uri": "https://localhost:8080/",
          "height": 35
        },
        "id": "8Q84mnNVRoJZ",
        "outputId": "71ea127c-e864-45f1-f6f8-6cf8f712f7d0"
      },
      "execution_count": 27,
      "outputs": [
        {
          "output_type": "execute_result",
          "data": {
            "text/plain": [
              "'red'"
            ],
            "application/vnd.google.colaboratory.intrinsic+json": {
              "type": "string"
            }
          },
          "metadata": {},
          "execution_count": 27
        }
      ]
    },
    {
      "cell_type": "code",
      "source": [
        "fruit.color='orange'\n",
        "fruit.color"
      ],
      "metadata": {
        "colab": {
          "base_uri": "https://localhost:8080/",
          "height": 35
        },
        "id": "9hhdtTEHRtFN",
        "outputId": "2222178c-52c1-4549-bff7-13a44601e8a9"
      },
      "execution_count": 28,
      "outputs": [
        {
          "output_type": "execute_result",
          "data": {
            "text/plain": [
              "'orange'"
            ],
            "application/vnd.google.colaboratory.intrinsic+json": {
              "type": "string"
            }
          },
          "metadata": {},
          "execution_count": 28
        }
      ]
    },
    {
      "cell_type": "code",
      "source": [
        "new_fruit=fruit()\n",
        "new_fruit.color"
      ],
      "metadata": {
        "colab": {
          "base_uri": "https://localhost:8080/",
          "height": 35
        },
        "id": "n-D9R_FpRx6h",
        "outputId": "ee1aae50-fe08-42cc-d99d-a6d6fe2da23f"
      },
      "execution_count": 31,
      "outputs": [
        {
          "output_type": "execute_result",
          "data": {
            "text/plain": [
              "'orange'"
            ],
            "application/vnd.google.colaboratory.intrinsic+json": {
              "type": "string"
            }
          },
          "metadata": {},
          "execution_count": 31
        }
      ]
    },
    {
      "cell_type": "code",
      "source": [
        "비교 연산을 위한 매직 메서드\n",
        "__eq__(self,other) self==other\n",
        "__ne__(self,other) self!=other\n",
        "__lt__(self,other) self<other\n",
        "__gt__(self,other) self>other\n",
        "__le__(self,other) self<=other\n",
        "__ge__(self,other) self>=other"
      ],
      "metadata": {
        "colab": {
          "base_uri": "https://localhost:8080/",
          "height": 137
        },
        "id": "Db7F-GLDR8G7",
        "outputId": "33ee6f25-d4c5-4a7d-c168-ef6dbf0ddada"
      },
      "execution_count": 32,
      "outputs": [
        {
          "output_type": "error",
          "ename": "SyntaxError",
          "evalue": "ignored",
          "traceback": [
            "\u001b[0;36m  File \u001b[0;32m\"<ipython-input-32-dcf3d1785c99>\"\u001b[0;36m, line \u001b[0;32m1\u001b[0m\n\u001b[0;31m    비교 연산을 위한 매직 메서드\u001b[0m\n\u001b[0m         ^\u001b[0m\n\u001b[0;31mSyntaxError\u001b[0m\u001b[0;31m:\u001b[0m invalid syntax\n"
          ]
        }
      ]
    },
    {
      "cell_type": "code",
      "source": [
        "산술 연산을 위한 매직 메서드\n",
        "__add__(self,other) self+other\n",
        "__sub__(self,other) self-other\n",
        "__mul__(self,other) self*other\n",
        "__floordiv__(self,other) self//other\n",
        "__truediv__(self,other) self/other\n",
        "__mod__(self,other) self%other\n",
        "__pow__(self,other) self**other"
      ],
      "metadata": {
        "id": "6-1y1DYuUja0"
      },
      "execution_count": null,
      "outputs": []
    },
    {
      "cell_type": "code",
      "source": [
        ""
      ],
      "metadata": {
        "id": "whhJ_bVzU1vp"
      },
      "execution_count": null,
      "outputs": []
    }
  ]
}