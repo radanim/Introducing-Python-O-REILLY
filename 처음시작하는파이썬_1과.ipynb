{
  "nbformat": 4,
  "nbformat_minor": 0,
  "metadata": {
    "colab": {
      "name": "처음시작하는파이썬-1과",
      "provenance": [],
      "authorship_tag": "ABX9TyPkICzUEjrYIOCm9liGRxgf",
      "include_colab_link": true
    },
    "kernelspec": {
      "name": "python3",
      "display_name": "Python 3"
    },
    "language_info": {
      "name": "python"
    }
  },
  "cells": [
    {
      "cell_type": "markdown",
      "metadata": {
        "id": "view-in-github",
        "colab_type": "text"
      },
      "source": [
        "<a href=\"https://colab.research.google.com/github/radanim/Introducing-Python-O-REILLY/blob/master/%EC%B2%98%EC%9D%8C%EC%8B%9C%EC%9E%91%ED%95%98%EB%8A%94%ED%8C%8C%EC%9D%B4%EC%8D%AC_1%EA%B3%BC.ipynb\" target=\"_parent\"><img src=\"https://colab.research.google.com/assets/colab-badge.svg\" alt=\"Open In Colab\"/></a>"
      ]
    },
    {
      "cell_type": "code",
      "execution_count": null,
      "metadata": {
        "colab": {
          "base_uri": "https://localhost:8080/"
        },
        "id": "dKv1HO9jZT6g",
        "outputId": "354e5649-b5a1-476c-8e4f-64e9c01ea91e"
      },
      "outputs": [
        {
          "output_type": "stream",
          "name": "stdout",
          "text": [
            "5\n",
            "4\n",
            "3\n",
            "2\n",
            "1\n",
            "hey\n"
          ]
        }
      ],
      "source": [
        "for countdown in 5,4,3,2,1, \"hey\":\n",
        "  print(countdown)"
      ]
    },
    {
      "cell_type": "code",
      "source": [
        "quotes={\n",
        "    \"Moe\":\"A wise guy, huh?\",\n",
        "    \"Larry\": \"Ow!\",\n",
        "    \"Curly\":\"Nyuk nyuk!\",\n",
        "}\n",
        "stooge = \"Curly\"\n",
        "print(stooge, \"says:\",quotes[stooge])"
      ],
      "metadata": {
        "colab": {
          "base_uri": "https://localhost:8080/"
        },
        "id": "T2Kk-MOlangF",
        "outputId": "aa83fe32-1328-4d6c-c99c-d78e0d0b8e83"
      },
      "execution_count": null,
      "outputs": [
        {
          "output_type": "stream",
          "name": "stdout",
          "text": [
            "Curly says: Nyuk nyuk!\n"
          ]
        }
      ]
    },
    {
      "cell_type": "code",
      "source": [
        "# 터미널 창 사용하여 입력문자 실행, 결과 보여줌 - 셸 프로그램 \n",
        "# 윈도우 쉘은 cmd(command 줄임말)\n",
        "# C나 C++은 프로그램 속도를 가장 우선시할 때 사용하는 저수준 언어\n",
        "# 수행하는 계산작업은 CPU의 속도에 의해 결정\n",
        "# 파이썬의 창시자 귀도 반 로섬\n",
        "# 대화식 인터프리터 - 프로그램 테스트 쉬운 환경 제공, 커맨드라인에 코드 입력하고 결과를 볼수있음.\n",
        "\n"
      ],
      "metadata": {
        "id": "sIOnrq22bYA0"
      },
      "execution_count": null,
      "outputs": []
    },
    {
      "cell_type": "code",
      "source": [
        "import this - 파이썬 철학, 자유시"
      ],
      "metadata": {
        "colab": {
          "base_uri": "https://localhost:8080/"
        },
        "id": "LUkVpcL7fa4Y",
        "outputId": "14928f11-a0af-4aca-ca79-57fe00b026d8"
      },
      "execution_count": null,
      "outputs": [
        {
          "output_type": "stream",
          "name": "stdout",
          "text": [
            "The Zen of Python, by Tim Peters\n",
            "\n",
            "Beautiful is better than ugly.\n",
            "Explicit is better than implicit.\n",
            "Simple is better than complex.\n",
            "Complex is better than complicated.\n",
            "Flat is better than nested.\n",
            "Sparse is better than dense.\n",
            "Readability counts.\n",
            "Special cases aren't special enough to break the rules.\n",
            "Although practicality beats purity.\n",
            "Errors should never pass silently.\n",
            "Unless explicitly silenced.\n",
            "In the face of ambiguity, refuse the temptation to guess.\n",
            "There should be one-- and preferably only one --obvious way to do it.\n",
            "Although that way may not be obvious at first unless you're Dutch.\n",
            "Now is better than never.\n",
            "Although never is often better than *right* now.\n",
            "If the implementation is hard to explain, it's a bad idea.\n",
            "If the implementation is easy to explain, it may be a good idea.\n",
            "Namespaces are one honking great idea -- let's do more of those!\n"
          ]
        }
      ]
    },
    {
      "cell_type": "code",
      "source": [
        "8*9"
      ],
      "metadata": {
        "colab": {
          "base_uri": "https://localhost:8080/"
        },
        "id": "VhNvrm1GfdTr",
        "outputId": "1675ab46-2fd9-4f49-b99e-7439e84e7b46"
      },
      "execution_count": null,
      "outputs": [
        {
          "output_type": "execute_result",
          "data": {
            "text/plain": [
              "72"
            ]
          },
          "metadata": {},
          "execution_count": 4
        }
      ]
    },
    {
      "cell_type": "code",
      "source": [
        "47"
      ],
      "metadata": {
        "id": "UGS5i50cfm5s",
        "outputId": "2fbb5e9f-c101-4d30-d8c7-594843f1f4f5",
        "colab": {
          "base_uri": "https://localhost:8080/"
        }
      },
      "execution_count": null,
      "outputs": [
        {
          "output_type": "execute_result",
          "data": {
            "text/plain": [
              "47"
            ]
          },
          "metadata": {},
          "execution_count": 5
        }
      ]
    },
    {
      "cell_type": "code",
      "source": [
        "print(47)"
      ],
      "metadata": {
        "id": "A0O9r7nzfn5V",
        "outputId": "892c8616-5119-481b-d631-04325c3a99d3",
        "colab": {
          "base_uri": "https://localhost:8080/"
        }
      },
      "execution_count": null,
      "outputs": [
        {
          "output_type": "stream",
          "name": "stdout",
          "text": [
            "47\n"
          ]
        }
      ]
    }
  ]
}