{
  "nbformat": 4,
  "nbformat_minor": 0,
  "metadata": {
    "colab": {
      "name": "9과 함수",
      "provenance": [],
      "authorship_tag": "ABX9TyMdJ8s00MFX1XCleNpSpWZJ",
      "include_colab_link": true
    },
    "kernelspec": {
      "name": "python3",
      "display_name": "Python 3"
    },
    "language_info": {
      "name": "python"
    }
  },
  "cells": [
    {
      "cell_type": "markdown",
      "metadata": {
        "id": "view-in-github",
        "colab_type": "text"
      },
      "source": [
        "<a href=\"https://colab.research.google.com/github/radanim/Introducing-Python-O-REILLY/blob/master/9%EA%B3%BC_%ED%95%A8%EC%88%98.ipynb\" target=\"_parent\"><img src=\"https://colab.research.google.com/assets/colab-badge.svg\" alt=\"Open In Colab\"/></a>"
      ]
    },
    {
      "cell_type": "code",
      "execution_count": null,
      "metadata": {
        "id": "sQ7DzUcbsrvy"
      },
      "outputs": [],
      "source": [
        "코드 재사용을 위해 함수를 사용\n",
        "함수는 이름이 붙여진 코드 조각, 분리되어 있다. \n",
        "함수는 입력 매개변수로 모든 타입을 취할 수 있다.\n",
        "또한 그 결과로 모든 타입을 반환할 수 있다. \n",
        "\n",
        "정의하기: 0개 또는 1개 이상의 매개변수를 갖는다. \n",
        "호출하기: 0개 또는 1개 이상의 결과를 얻는다. \n"
      ]
    },
    {
      "cell_type": "code",
      "source": [
        "def 함수이름, 괄호 입력.\n",
        "괄호 안에서 옵션으로 매개변수 입력, 마지막에는 콜론(:)"
      ],
      "metadata": {
        "id": "PH2ZAjLltWhz"
      },
      "execution_count": null,
      "outputs": []
    },
    {
      "cell_type": "code",
      "source": [
        "def make_a_sound():\n",
        "  print('quack')\n",
        "\n",
        "make_a_sound()"
      ],
      "metadata": {
        "colab": {
          "base_uri": "https://localhost:8080/"
        },
        "id": "F2p5jmIAtllf",
        "outputId": "ec5c1b4b-82d4-4a2f-e173-860cea518555"
      },
      "execution_count": null,
      "outputs": [
        {
          "output_type": "stream",
          "name": "stdout",
          "text": [
            "quack\n"
          ]
        }
      ]
    },
    {
      "cell_type": "code",
      "source": [
        "def agree():\n",
        "  return True\n",
        "\n",
        "if agree():\n",
        "  print('Splendid!')\n",
        "else:\n",
        "  print('That was unexpected.')"
      ],
      "metadata": {
        "colab": {
          "base_uri": "https://localhost:8080/"
        },
        "id": "2DeZReQ1trd5",
        "outputId": "29ad92ae-fd00-44d0-fef6-f005a2f88714"
      },
      "execution_count": null,
      "outputs": [
        {
          "output_type": "stream",
          "name": "stdout",
          "text": [
            "Splendid!\n"
          ]
        }
      ]
    },
    {
      "cell_type": "code",
      "source": [
        "def echo(anything):\n",
        "  return anything+' '+anything"
      ],
      "metadata": {
        "id": "9np_wLBOuAFy"
      },
      "execution_count": null,
      "outputs": []
    },
    {
      "cell_type": "code",
      "source": [
        "echo('Rumplestiltskin')"
      ],
      "metadata": {
        "colab": {
          "base_uri": "https://localhost:8080/",
          "height": 35
        },
        "id": "i4nZxNwRuV4D",
        "outputId": "0c83fc69-33eb-4193-ccc7-f6d5ebecb686"
      },
      "execution_count": null,
      "outputs": [
        {
          "output_type": "execute_result",
          "data": {
            "text/plain": [
              "'Rumplestiltskin Rumplestiltskin'"
            ],
            "application/vnd.google.colaboratory.intrinsic+json": {
              "type": "string"
            }
          },
          "metadata": {},
          "execution_count": 8
        }
      ]
    },
    {
      "cell_type": "code",
      "source": [
        "def commentary(color):\n",
        "  if color=='red':\n",
        "    return \"It's tomato.\"\n",
        "  elif color=='green':\n",
        "    return \"It's green pepper\"\n",
        "  elif color=='bee purple':\n",
        "    return \"I don't know what it is, but only bees can see it\"\n",
        "  else: \n",
        "    return \"I've never heard of the color\"  +  color + \".\""
      ],
      "metadata": {
        "id": "2xTig2GWuhKU"
      },
      "execution_count": null,
      "outputs": []
    },
    {
      "cell_type": "code",
      "source": [
        "comment=commentary('blue')"
      ],
      "metadata": {
        "id": "h5SwUJETvvg8"
      },
      "execution_count": null,
      "outputs": []
    },
    {
      "cell_type": "code",
      "source": [
        "print(comment)"
      ],
      "metadata": {
        "colab": {
          "base_uri": "https://localhost:8080/"
        },
        "id": "GXGhRH_vvx5g",
        "outputId": "3919207c-10e3-417d-fe66-3440d7c0e594"
      },
      "execution_count": null,
      "outputs": [
        {
          "output_type": "stream",
          "name": "stdout",
          "text": [
            "I've never heard of the colorblue.\n"
          ]
        }
      ]
    },
    {
      "cell_type": "code",
      "source": [
        "thing=None\n",
        "if thing is None: \n",
        "  print(\"It's nothing\")\n",
        "else:\n",
        "  print(\"It's something\")"
      ],
      "metadata": {
        "id": "YAuOJ3ckwDao",
        "colab": {
          "base_uri": "https://localhost:8080/"
        },
        "outputId": "92d1cffb-1c7d-49ef-bf4b-b67ec6d833c1"
      },
      "execution_count": null,
      "outputs": [
        {
          "output_type": "stream",
          "name": "stdout",
          "text": [
            "It's nothing\n"
          ]
        }
      ]
    },
    {
      "cell_type": "code",
      "source": [
        "def whatis(thing):\n",
        "  if thing is None:\n",
        "    print(thing, \"is None\")\n",
        "  elif thing:\n",
        "    print(thing, \"is True\")\n",
        "  else:\n",
        "    print(thing, \"is False\")"
      ],
      "metadata": {
        "id": "7CDH1PxjYAHC"
      },
      "execution_count": null,
      "outputs": []
    },
    {
      "cell_type": "code",
      "source": [
        "whatis(None)"
      ],
      "metadata": {
        "colab": {
          "base_uri": "https://localhost:8080/"
        },
        "id": "Vm5u2KQ5YNL6",
        "outputId": "f35e3a09-0b19-4b47-dedf-799b69c44874"
      },
      "execution_count": null,
      "outputs": [
        {
          "output_type": "stream",
          "name": "stdout",
          "text": [
            "None is None\n"
          ]
        }
      ]
    },
    {
      "cell_type": "code",
      "source": [
        "whatis(True)"
      ],
      "metadata": {
        "colab": {
          "base_uri": "https://localhost:8080/"
        },
        "id": "_JOyD_95YSdV",
        "outputId": "b82cd9ee-2f69-44d6-c377-e6aac77bcbec"
      },
      "execution_count": null,
      "outputs": [
        {
          "output_type": "stream",
          "name": "stdout",
          "text": [
            "True is True\n"
          ]
        }
      ]
    },
    {
      "cell_type": "code",
      "source": [
        "whatis(False)"
      ],
      "metadata": {
        "colab": {
          "base_uri": "https://localhost:8080/"
        },
        "id": "_3R01yocYTxS",
        "outputId": "3161aed1-f6b4-4c6c-bcc4-c1c983ac22ce"
      },
      "execution_count": null,
      "outputs": [
        {
          "output_type": "stream",
          "name": "stdout",
          "text": [
            "False is False\n"
          ]
        }
      ]
    },
    {
      "cell_type": "code",
      "source": [
        "def menu(wine, entree, dessert):\n",
        "  return{'wine':wine, 'entree':entree, 'dessert':dessert}\n",
        "\n",
        "menu('chardonnay','chicken','cake')"
      ],
      "metadata": {
        "colab": {
          "base_uri": "https://localhost:8080/"
        },
        "id": "TXcSaw2cYXDE",
        "outputId": "76ec6033-cc8d-43fe-fbd5-e70bd3917796"
      },
      "execution_count": null,
      "outputs": [
        {
          "output_type": "execute_result",
          "data": {
            "text/plain": [
              "{'dessert': 'cake', 'entree': 'chicken', 'wine': 'chardonnay'}"
            ]
          },
          "metadata": {},
          "execution_count": 9
        }
      ]
    },
    {
      "cell_type": "code",
      "source": [
        "menu('beef','bagel','bordeaux')"
      ],
      "metadata": {
        "colab": {
          "base_uri": "https://localhost:8080/"
        },
        "id": "DLO2mtIXkIEY",
        "outputId": "610abe53-2bf8-49af-a12d-e394c87c912d"
      },
      "execution_count": null,
      "outputs": [
        {
          "output_type": "execute_result",
          "data": {
            "text/plain": [
              "{'dessert': 'bordeaux', 'entree': 'bagel', 'wine': 'beef'}"
            ]
          },
          "metadata": {},
          "execution_count": 10
        }
      ]
    },
    {
      "cell_type": "code",
      "source": [
        "def menu(wine, entree, dessert='pudding'):\n",
        "  return{'wine':wine, 'entree':entree, 'dessert':dessert}"
      ],
      "metadata": {
        "id": "OhfGGqcbgbjA"
      },
      "execution_count": null,
      "outputs": []
    },
    {
      "cell_type": "code",
      "source": [
        "menu('chardonnay','chicken')"
      ],
      "metadata": {
        "colab": {
          "base_uri": "https://localhost:8080/"
        },
        "id": "KeSKD99BiaL5",
        "outputId": "8f2c5482-4507-4bd5-8f57-26a0cb88a689"
      },
      "execution_count": null,
      "outputs": [
        {
          "output_type": "execute_result",
          "data": {
            "text/plain": [
              "{'dessert': 'pudding', 'entree': 'chicken', 'wine': 'chardonnay'}"
            ]
          },
          "metadata": {},
          "execution_count": 12
        }
      ]
    },
    {
      "cell_type": "code",
      "source": [
        "menu('dunkelfelder','duck','doughnut')"
      ],
      "metadata": {
        "colab": {
          "base_uri": "https://localhost:8080/"
        },
        "id": "fhTs5VmKic41",
        "outputId": "11a370eb-0334-464c-fdb7-11c6052fb758"
      },
      "execution_count": null,
      "outputs": [
        {
          "output_type": "execute_result",
          "data": {
            "text/plain": [
              "{'dessert': 'doughnut', 'entree': 'duck', 'wine': 'dunkelfelder'}"
            ]
          },
          "metadata": {},
          "execution_count": 13
        }
      ]
    },
    {
      "cell_type": "code",
      "source": [
        "def buggy(arg, result=[]):\n",
        "  result.append(arg)\n",
        "  print(result)"
      ],
      "metadata": {
        "id": "CNj3z1Cfihb7"
      },
      "execution_count": null,
      "outputs": []
    },
    {
      "cell_type": "code",
      "source": [
        "buggy('a')"
      ],
      "metadata": {
        "colab": {
          "base_uri": "https://localhost:8080/"
        },
        "id": "7aEC1rifiqeD",
        "outputId": "884ba686-a0c7-40ad-c3e3-434b84647ddd"
      },
      "execution_count": null,
      "outputs": [
        {
          "output_type": "stream",
          "name": "stdout",
          "text": [
            "['a']\n"
          ]
        }
      ]
    },
    {
      "cell_type": "code",
      "source": [
        "buggy('b')"
      ],
      "metadata": {
        "colab": {
          "base_uri": "https://localhost:8080/"
        },
        "id": "8jZ2ZBHHirmd",
        "outputId": "e9d8cce1-38b0-47dc-f2f0-e1e5e02ff2d8"
      },
      "execution_count": null,
      "outputs": [
        {
          "output_type": "stream",
          "name": "stdout",
          "text": [
            "['a', 'b']\n"
          ]
        }
      ]
    },
    {
      "cell_type": "code",
      "source": [
        "def nonbuggy(arg, result=None):\n",
        "  if result is None:\n",
        "    result=[]\n",
        "  result.append(arg)\n",
        "  print(result)"
      ],
      "metadata": {
        "id": "VBA2ZFuVis-D"
      },
      "execution_count": null,
      "outputs": []
    },
    {
      "cell_type": "code",
      "source": [
        "nonbuggy('a')"
      ],
      "metadata": {
        "colab": {
          "base_uri": "https://localhost:8080/"
        },
        "id": "OsSjG9hBjCWZ",
        "outputId": "2d7238f0-34f2-4865-d21b-1d9beb980ddc"
      },
      "execution_count": null,
      "outputs": [
        {
          "output_type": "stream",
          "name": "stdout",
          "text": [
            "['a']\n"
          ]
        }
      ]
    },
    {
      "cell_type": "code",
      "source": [
        "nonbuggy('b')"
      ],
      "metadata": {
        "colab": {
          "base_uri": "https://localhost:8080/"
        },
        "id": "9uFym6ymjDnT",
        "outputId": "2efa8b80-6f21-4abe-860f-5939276ec4c2"
      },
      "execution_count": null,
      "outputs": [
        {
          "output_type": "stream",
          "name": "stdout",
          "text": [
            "['b']\n"
          ]
        }
      ]
    },
    {
      "cell_type": "code",
      "source": [
        "def print_args(*args):\n",
        "  print('Positional tuple:',args)"
      ],
      "metadata": {
        "id": "bu0tMnTMkY2h"
      },
      "execution_count": null,
      "outputs": []
    },
    {
      "cell_type": "code",
      "source": [
        "print_args(3,2,1,'wait!','uh...')"
      ],
      "metadata": {
        "colab": {
          "base_uri": "https://localhost:8080/"
        },
        "id": "SrsesEsqkeIr",
        "outputId": "5262820d-e8bd-4810-bd1c-a08036b59b09"
      },
      "execution_count": null,
      "outputs": [
        {
          "output_type": "stream",
          "name": "stdout",
          "text": [
            "Positional tuple: (3, 2, 1, 'wait!', 'uh...')\n"
          ]
        }
      ]
    },
    {
      "cell_type": "code",
      "source": [
        "def print_more(required1, required2, *args):\n",
        "  print('Need this one:', required1)\n",
        "  print('Need this one. too:', required2)\n",
        "  print('All the rest:',args)"
      ],
      "metadata": {
        "id": "rCAyfdBjki4S"
      },
      "execution_count": null,
      "outputs": []
    },
    {
      "cell_type": "code",
      "source": [
        "print_more('cap','gloves','scarf','monocle','mustache wax')"
      ],
      "metadata": {
        "colab": {
          "base_uri": "https://localhost:8080/"
        },
        "id": "nA6mNb0rkvRG",
        "outputId": "5b4f34e1-02f8-40eb-d41b-474d9000b872"
      },
      "execution_count": null,
      "outputs": [
        {
          "output_type": "stream",
          "name": "stdout",
          "text": [
            "Need this one: cap\n",
            "Need this one. too: gloves\n",
            "All the rest: ('scarf', 'monocle', 'mustache wax')\n"
          ]
        }
      ]
    },
    {
      "cell_type": "code",
      "source": [
        "def print_kwargs(**kwargs):\n",
        "  print('keyword arguments:',kwargs)"
      ],
      "metadata": {
        "id": "jZ7Ry6dTk4n9"
      },
      "execution_count": null,
      "outputs": []
    },
    {
      "cell_type": "code",
      "source": [
        "print_kwargs()"
      ],
      "metadata": {
        "colab": {
          "base_uri": "https://localhost:8080/"
        },
        "id": "IDo2eAM5nB6J",
        "outputId": "ed1831ca-5adf-4023-fef8-d54f64b50df6"
      },
      "execution_count": null,
      "outputs": [
        {
          "output_type": "stream",
          "name": "stdout",
          "text": [
            "keyword arguments: {}\n"
          ]
        }
      ]
    },
    {
      "cell_type": "code",
      "source": [
        "print_kwargs(wine='merlot',entree='mutton',dessert='macaroon')"
      ],
      "metadata": {
        "colab": {
          "base_uri": "https://localhost:8080/"
        },
        "id": "HoxvOrR8nDvX",
        "outputId": "69062b93-be71-4efe-c302-1a8ef21ff4b1"
      },
      "execution_count": null,
      "outputs": [
        {
          "output_type": "stream",
          "name": "stdout",
          "text": [
            "keyword arguments: {'wine': 'merlot', 'entree': 'mutton', 'dessert': 'macaroon'}\n"
          ]
        }
      ]
    },
    {
      "cell_type": "code",
      "source": [
        "outside=['one','fine','day']\n",
        "def mangle(arg):\n",
        "  arg[1]='terrible!'"
      ],
      "metadata": {
        "id": "X6WNlakmnObe"
      },
      "execution_count": null,
      "outputs": []
    },
    {
      "cell_type": "code",
      "source": [
        "outside"
      ],
      "metadata": {
        "colab": {
          "base_uri": "https://localhost:8080/"
        },
        "id": "8QfUiUkHoq5-",
        "outputId": "c50cbd56-8a61-486e-8b54-a6cf336c8881"
      },
      "execution_count": null,
      "outputs": [
        {
          "output_type": "execute_result",
          "data": {
            "text/plain": [
              "['one', 'fine', 'day']"
            ]
          },
          "metadata": {},
          "execution_count": 28
        }
      ]
    },
    {
      "cell_type": "code",
      "source": [
        "mangle(outside)"
      ],
      "metadata": {
        "id": "Inxfvu5vosDr"
      },
      "execution_count": null,
      "outputs": []
    },
    {
      "cell_type": "code",
      "source": [
        "outside"
      ],
      "metadata": {
        "colab": {
          "base_uri": "https://localhost:8080/"
        },
        "id": "MtF4eGzCouI-",
        "outputId": "45893556-a9bc-4c5b-e7ff-02878d33e396"
      },
      "execution_count": null,
      "outputs": [
        {
          "output_type": "execute_result",
          "data": {
            "text/plain": [
              "['one', 'terrible!', 'day']"
            ]
          },
          "metadata": {},
          "execution_count": 30
        }
      ]
    },
    {
      "cell_type": "code",
      "source": [
        "더블언어바 = 던더(dunder)\n",
        "파이썬에서 괄호()는 함수를 호출한다는 의미 \n"
      ],
      "metadata": {
        "id": "BhngJL9ypdf_"
      },
      "execution_count": null,
      "outputs": []
    },
    {
      "cell_type": "code",
      "source": [
        "람다함수는 단일문장으로 표현되는 익명함수"
      ],
      "metadata": {
        "id": "UKFmdQ8lphG9"
      },
      "execution_count": null,
      "outputs": []
    },
    {
      "cell_type": "code",
      "source": [
        "def edit_story(words, func):\n",
        "  for word in words:\n",
        "    print(func(word))"
      ],
      "metadata": {
        "id": "mNV3n0xdttax"
      },
      "execution_count": null,
      "outputs": []
    },
    {
      "cell_type": "code",
      "source": [
        "stairs=['thud','meow','thud','hiss']\n",
        "def enliven(word):\n",
        "  return word.capitalize()+'!'"
      ],
      "metadata": {
        "id": "ARZ2H2JYtyyh"
      },
      "execution_count": null,
      "outputs": []
    },
    {
      "cell_type": "code",
      "source": [
        "edit_story(stairs, enliven)"
      ],
      "metadata": {
        "colab": {
          "base_uri": "https://localhost:8080/"
        },
        "id": "RPlqJyIZt91d",
        "outputId": "8c0acfe4-e887-422f-f4ea-1ea23caff8c9"
      },
      "execution_count": null,
      "outputs": [
        {
          "output_type": "stream",
          "name": "stdout",
          "text": [
            "Thud!\n",
            "Meow!\n",
            "Thud!\n",
            "Hiss!\n"
          ]
        }
      ]
    },
    {
      "cell_type": "code",
      "source": [
        "genobj=(pair for pair in zip(['a','b'],['1','2']))\n",
        "for thing in genobj:\n",
        "  print(thing)"
      ],
      "metadata": {
        "colab": {
          "base_uri": "https://localhost:8080/"
        },
        "id": "NnwIZn8EuJu5",
        "outputId": "c76320bf-8af8-4541-c70c-423510293c6b"
      },
      "execution_count": null,
      "outputs": [
        {
          "output_type": "stream",
          "name": "stdout",
          "text": [
            "('a', '1')\n",
            "('b', '2')\n"
          ]
        }
      ]
    },
    {
      "cell_type": "code",
      "source": [
        "def flatten(lol):\n",
        "  for item in lol:\n",
        "    if isinstance(item, list):\n",
        "      yield from flatten(item)\n",
        "    else:\n",
        "      yield item\n",
        "\n",
        "lol=[1,2,[3,4,5],[6,[7,8,9],[]]]\n",
        "list(flatten(lol))\n",
        "\n",
        "# 함수가 자기 자신을 호출하는것 재귀 \n",
        "# 파이썬에서 재귀가 깊다면 예외가 발생 \n",
        "# 비동기 함수 async, await "
      ],
      "metadata": {
        "id": "hQimgTG9woeF",
        "colab": {
          "base_uri": "https://localhost:8080/"
        },
        "outputId": "2648573a-b8ba-47a9-fc8a-60980a92f8ab"
      },
      "execution_count": 3,
      "outputs": [
        {
          "output_type": "execute_result",
          "data": {
            "text/plain": [
              "[1, 2, 3, 4, 5, 6, 7, 8, 9]"
            ]
          },
          "metadata": {},
          "execution_count": 3
        }
      ]
    },
    {
      "cell_type": "code",
      "source": [
        "# 예외 처리\n",
        "short_list=[1,2,3]\n",
        "position=5\n",
        "try:\n",
        "  short_list[position]\n",
        "except:\n",
        "  print('need a position between 0 and', len(short_list)-1, 'but got', position)"
      ],
      "metadata": {
        "colab": {
          "base_uri": "https://localhost:8080/"
        },
        "id": "EMz8bfpsME--",
        "outputId": "013983ff-1e18-4d1d-a676-9e26fabc1150"
      },
      "execution_count": 1,
      "outputs": [
        {
          "output_type": "stream",
          "name": "stdout",
          "text": [
            "need a position between 0 and 2 but got 5\n"
          ]
        }
      ]
    },
    {
      "cell_type": "code",
      "source": [
        ""
      ],
      "metadata": {
        "id": "2BsMc1BihfmK"
      },
      "execution_count": null,
      "outputs": []
    }
  ]
}