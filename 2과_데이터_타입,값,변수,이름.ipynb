{
  "nbformat": 4,
  "nbformat_minor": 0,
  "metadata": {
    "colab": {
      "name": "2과-데이터:타입,값,변수,이름",
      "provenance": [],
      "authorship_tag": "ABX9TyP91iUQb1j5L8LeGg1XEXbp",
      "include_colab_link": true
    },
    "kernelspec": {
      "name": "python3",
      "display_name": "Python 3"
    },
    "language_info": {
      "name": "python"
    }
  },
  "cells": [
    {
      "cell_type": "markdown",
      "metadata": {
        "id": "view-in-github",
        "colab_type": "text"
      },
      "source": [
        "<a href=\"https://colab.research.google.com/github/radanim/Introducing-Python-O-REILLY/blob/master/2%EA%B3%BC_%EB%8D%B0%EC%9D%B4%ED%84%B0_%ED%83%80%EC%9E%85%2C%EA%B0%92%2C%EB%B3%80%EC%88%98%2C%EC%9D%B4%EB%A6%84.ipynb\" target=\"_parent\"><img src=\"https://colab.research.google.com/assets/colab-badge.svg\" alt=\"Open In Colab\"/></a>"
      ]
    },
    {
      "cell_type": "code",
      "execution_count": null,
      "metadata": {
        "id": "LpyV71mfg4Xa"
      },
      "outputs": [],
      "source": [
        "# 파이썬은 강타입 언어, 값은 변경가능하지만 객체의 타입은 변경할 수 없다. "
      ]
    },
    {
      "cell_type": "code",
      "source": [
        "# 변수 - 대소문자 구분, 숫자가 아닌 문자나 언더바로 시작, 예약어(키워드)사용불가, _ 시작이름은 특별하게 취급"
      ],
      "metadata": {
        "id": "1a3rxPH_hxc5"
      },
      "execution_count": null,
      "outputs": []
    },
    {
      "cell_type": "code",
      "source": [
        "help(\"keywords\")"
      ],
      "metadata": {
        "colab": {
          "base_uri": "https://localhost:8080/"
        },
        "id": "T14V5gZHh9mu",
        "outputId": "69e6ee9f-b57a-4a84-f074-2b2f11f84e39"
      },
      "execution_count": 1,
      "outputs": [
        {
          "output_type": "stream",
          "name": "stdout",
          "text": [
            "\n",
            "Here is a list of the Python keywords.  Enter any keyword to get more help.\n",
            "\n",
            "False               class               from                or\n",
            "None                continue            global              pass\n",
            "True                def                 if                  raise\n",
            "and                 del                 import              return\n",
            "as                  elif                in                  try\n",
            "assert              else                is                  while\n",
            "async               except              lambda              with\n",
            "await               finally             nonlocal            yield\n",
            "break               for                 not                 \n",
            "\n"
          ]
        }
      ]
    },
    {
      "cell_type": "code",
      "source": [
        "# 파이썬은 =를 사용하여 변수에 값을 할당. 왼쪽 화살표와 비슷. 오른쪽 값을 왼쪽 변수에 할당"
      ],
      "metadata": {
        "id": "C33ooWCIiKqQ"
      },
      "execution_count": null,
      "outputs": []
    },
    {
      "cell_type": "code",
      "source": [
        "# 변수는 단지 이름, 할당은 값을 복사하지 않고, 단지 데이터를 포함하는 객체에 이름을 붙임. \n",
        "# 이름은 객체 자체가 아닌 객체에 대한 참조다. \n",
        "# 컴퓨터 메모리 어딘가에 있는 객체 상자에 문자열이 부착된 이름을 시각화한다."
      ],
      "metadata": {
        "id": "ObQS1Yy0iXYE"
      },
      "execution_count": 2,
      "outputs": []
    },
    {
      "cell_type": "code",
      "source": [
        "# 이것이 정적언어가 변수타입을 선언하게 하는것과 다른점이다. 다른 언어는 변수 자체에 타입이 있고, 특정 메모리 위치에 바인딩된다."
      ],
      "metadata": {
        "id": "4tWPzP1ejRWZ"
      },
      "execution_count": null,
      "outputs": []
    },
    {
      "cell_type": "code",
      "source": [
        "# 파이썬에서 어떤 타입의 변수 또는 리터럴 값을 알고 싶다면 type() 메서드를 사용한다. \n",
        "# 변수가 특정 타입의 객체를 가리키는지 확인하려면 isinstance() 내장 함수를 사용한다.\n",
        "isinstance(7,int)"
      ],
      "metadata": {
        "colab": {
          "base_uri": "https://localhost:8080/"
        },
        "id": "k9esdw6ojbmh",
        "outputId": "b17e27f1-1ff1-411f-be9c-f77af2b21aaa"
      },
      "execution_count": 4,
      "outputs": [
        {
          "output_type": "execute_result",
          "data": {
            "text/plain": [
              "True"
            ]
          },
          "metadata": {},
          "execution_count": 4
        }
      ]
    },
    {
      "cell_type": "code",
      "source": [
        "type(7)"
      ],
      "metadata": {
        "colab": {
          "base_uri": "https://localhost:8080/"
        },
        "id": "yEvcyLHqkBn7",
        "outputId": "8dc5d8fe-031f-41c4-c0e1-b2a16f58bf64"
      },
      "execution_count": 7,
      "outputs": [
        {
          "output_type": "execute_result",
          "data": {
            "text/plain": [
              "int"
            ]
          },
          "metadata": {},
          "execution_count": 7
        }
      ]
    },
    {
      "cell_type": "code",
      "source": [
        "type(7)==int"
      ],
      "metadata": {
        "colab": {
          "base_uri": "https://localhost:8080/"
        },
        "id": "RS04IbgBkDdV",
        "outputId": "87ce051f-01f2-432a-956d-7da15f54b512"
      },
      "execution_count": 6,
      "outputs": [
        {
          "output_type": "execute_result",
          "data": {
            "text/plain": [
              "True"
            ]
          },
          "metadata": {},
          "execution_count": 6
        }
      ]
    },
    {
      "cell_type": "code",
      "source": [
        "# 파이썬은 더이상 필요하지 않은 공간의 메모리를 재사용하는 가비지컬렉터(쓰레기 수집기)가 있다. 메모리 선반 뒤에서 더이상 사용하지 않는 상자 재활용"
      ],
      "metadata": {
        "id": "7jlVUGZtkFPa"
      },
      "execution_count": null,
      "outputs": []
    },
    {
      "cell_type": "code",
      "source": [
        "# 리스트는 여전히 리스트 타입이지만, 리스트 값(리스트 요소와 순서)은 변할수 있다. "
      ],
      "metadata": {
        "id": "WgwtuW06kchw"
      },
      "execution_count": null,
      "outputs": []
    },
    {
      "cell_type": "code",
      "source": [
        "prince=99\n",
        "prince"
      ],
      "metadata": {
        "colab": {
          "base_uri": "https://localhost:8080/"
        },
        "id": "YMwJeDnFlMsz",
        "outputId": "518767e9-14ef-4192-cbcd-e7f9b85ab8d9"
      },
      "execution_count": 9,
      "outputs": [
        {
          "output_type": "execute_result",
          "data": {
            "text/plain": [
              "99"
            ]
          },
          "metadata": {},
          "execution_count": 9
        }
      ]
    },
    {
      "cell_type": "code",
      "source": [
        "type(5)"
      ],
      "metadata": {
        "colab": {
          "base_uri": "https://localhost:8080/"
        },
        "id": "yJBDP2gJlWe3",
        "outputId": "d9879ffb-225c-48d6-aea4-4e51f9f2e594"
      },
      "execution_count": 10,
      "outputs": [
        {
          "output_type": "execute_result",
          "data": {
            "text/plain": [
              "int"
            ]
          },
          "metadata": {},
          "execution_count": 10
        }
      ]
    },
    {
      "cell_type": "code",
      "source": [
        "type(2.0)"
      ],
      "metadata": {
        "colab": {
          "base_uri": "https://localhost:8080/"
        },
        "id": "tTz3U13plX32",
        "outputId": "d934932a-af8b-4c2d-844c-00e8dd3bdb83"
      },
      "execution_count": 11,
      "outputs": [
        {
          "output_type": "execute_result",
          "data": {
            "text/plain": [
              "float"
            ]
          },
          "metadata": {},
          "execution_count": 11
        }
      ]
    },
    {
      "cell_type": "code",
      "source": [
        "type(5+2.0)"
      ],
      "metadata": {
        "colab": {
          "base_uri": "https://localhost:8080/"
        },
        "id": "AG_uVZsilZrF",
        "outputId": "86eb9301-0e61-4494-95ee-7f961f5ed4aa"
      },
      "execution_count": 12,
      "outputs": [
        {
          "output_type": "execute_result",
          "data": {
            "text/plain": [
              "float"
            ]
          },
          "metadata": {},
          "execution_count": 12
        }
      ]
    },
    {
      "cell_type": "code",
      "source": [
        ""
      ],
      "metadata": {
        "id": "EL4tmUuhlcOT"
      },
      "execution_count": null,
      "outputs": []
    }
  ]
}