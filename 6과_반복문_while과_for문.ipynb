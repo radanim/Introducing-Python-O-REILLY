{
  "nbformat": 4,
  "nbformat_minor": 0,
  "metadata": {
    "colab": {
      "name": "6과 반복문:while과 for문",
      "provenance": [],
      "authorship_tag": "ABX9TyMrqenLB7wT2Lw/Xn/9t9s1",
      "include_colab_link": true
    },
    "kernelspec": {
      "name": "python3",
      "display_name": "Python 3"
    },
    "language_info": {
      "name": "python"
    }
  },
  "cells": [
    {
      "cell_type": "markdown",
      "metadata": {
        "id": "view-in-github",
        "colab_type": "text"
      },
      "source": [
        "<a href=\"https://colab.research.google.com/github/radanim/Introducing-Python-O-REILLY/blob/master/6%EA%B3%BC_%EB%B0%98%EB%B3%B5%EB%AC%B8_while%EA%B3%BC_for%EB%AC%B8.ipynb\" target=\"_parent\"><img src=\"https://colab.research.google.com/assets/colab-badge.svg\" alt=\"Open In Colab\"/></a>"
      ]
    },
    {
      "cell_type": "code",
      "execution_count": 1,
      "metadata": {
        "colab": {
          "base_uri": "https://localhost:8080/"
        },
        "id": "TJx2_AMIxmkr",
        "outputId": "4e870a45-b0e7-4473-9652-1a5ce990ace9"
      },
      "outputs": [
        {
          "output_type": "stream",
          "name": "stdout",
          "text": [
            "1\n",
            "2\n",
            "3\n",
            "4\n",
            "5\n"
          ]
        }
      ],
      "source": [
        "count=1\n",
        "while count <=5:\n",
        "  print(count)\n",
        "  count+=1"
      ]
    },
    {
      "cell_type": "code",
      "source": [
        "while True:\n",
        "  stuff=input(\"String to capitalize [type q to quit]: \")\n",
        "  if stuff==\"q\":\n",
        "    break\n",
        "  print(stuff.capitalize())"
      ],
      "metadata": {
        "colab": {
          "base_uri": "https://localhost:8080/"
        },
        "id": "x7wrUO9jx3QF",
        "outputId": "b9107195-776f-4fd9-e45f-cf53087c69c7"
      },
      "execution_count": 3,
      "outputs": [
        {
          "name": "stdout",
          "output_type": "stream",
          "text": [
            "String to capitalize [type q to quit]: test\n",
            "Test\n",
            "String to capitalize [type q to quit]: hey, it wors\n",
            "Hey, it wors\n",
            "String to capitalize [type q to quit]: hey, it works\n",
            "Hey, it works\n",
            "String to capitalize [type q to quit]: q\n"
          ]
        }
      ]
    },
    {
      "cell_type": "code",
      "source": [
        "while True:\n",
        "  value=input(\"Integer, please [q to quit]:\")\n",
        "  if value =='q':#종료\n",
        "      break\n",
        "  number=int(value)\n",
        "  if number %2==0: # 짝수\n",
        "    continue\n",
        "  print(number,\"squared is\", number*number)"
      ],
      "metadata": {
        "colab": {
          "base_uri": "https://localhost:8080/"
        },
        "id": "w-cX8BjpyirK",
        "outputId": "f86c800b-c615-43c0-f93e-da8b207f77ea"
      },
      "execution_count": 5,
      "outputs": [
        {
          "name": "stdout",
          "output_type": "stream",
          "text": [
            "Integer, please [q to quit]:1\n",
            "1 squared is 1\n",
            "Integer, please [q to quit]:2\n",
            "Integer, please [q to quit]:3\n",
            "3 squared is 9\n",
            "Integer, please [q to quit]:4\n",
            "Integer, please [q to quit]:5\n",
            "5 squared is 25\n",
            "Integer, please [q to quit]:q\n"
          ]
        }
      ]
    },
    {
      "cell_type": "code",
      "source": [
        "numbers=[1,3,5]\n",
        "position = 0\n",
        "while position < len(numbers):\n",
        "  number=numbers[position]\n",
        "  if number %2==0:\n",
        "    print('Found even number', number)\n",
        "    break\n",
        "  position +=1\n",
        "else: #break문이 호출되지 않은 경우\n",
        "  print('No even number found')\n"
      ],
      "metadata": {
        "colab": {
          "base_uri": "https://localhost:8080/"
        },
        "id": "A5icENMOzOXu",
        "outputId": "ae46510e-4895-4526-e1c8-1a3bcb450bcf"
      },
      "execution_count": 6,
      "outputs": [
        {
          "output_type": "stream",
          "name": "stdout",
          "text": [
            "No even number found\n"
          ]
        }
      ]
    },
    {
      "cell_type": "code",
      "source": [
        "word='thud'\n",
        "offset=0\n",
        "while offset < len(word):\n",
        "  print(word[offset])\n",
        "  offset +=1"
      ],
      "metadata": {
        "colab": {
          "base_uri": "https://localhost:8080/"
        },
        "id": "bywNvUIb0L6V",
        "outputId": "5c8c5a23-de81-4474-e263-f0976a688e7a"
      },
      "execution_count": 8,
      "outputs": [
        {
          "output_type": "stream",
          "name": "stdout",
          "text": [
            "t\n",
            "h\n",
            "u\n",
            "d\n"
          ]
        }
      ]
    },
    {
      "cell_type": "code",
      "source": [
        "for letter in word:\n",
        "  print(letter)"
      ],
      "metadata": {
        "colab": {
          "base_uri": "https://localhost:8080/"
        },
        "id": "FUWed0Fd0pN6",
        "outputId": "318f126f-81df-4a73-a342-bdf91d0a669a"
      },
      "execution_count": 9,
      "outputs": [
        {
          "output_type": "stream",
          "name": "stdout",
          "text": [
            "t\n",
            "h\n",
            "u\n",
            "d\n"
          ]
        }
      ]
    },
    {
      "cell_type": "code",
      "source": [
        "for i in word:\n",
        "  print(i)"
      ],
      "metadata": {
        "colab": {
          "base_uri": "https://localhost:8080/"
        },
        "id": "6xebseym0vJX",
        "outputId": "599687c8-5db0-426b-e586-030b073d10fb"
      },
      "execution_count": 10,
      "outputs": [
        {
          "output_type": "stream",
          "name": "stdout",
          "text": [
            "t\n",
            "h\n",
            "u\n",
            "d\n"
          ]
        }
      ]
    },
    {
      "cell_type": "code",
      "source": [
        "word='thud'\n",
        "for letter in word:\n",
        "  if letter =='u':\n",
        "    break\n",
        "  print(letter)"
      ],
      "metadata": {
        "colab": {
          "base_uri": "https://localhost:8080/"
        },
        "id": "yiIUs2TB0ww5",
        "outputId": "f416d139-d471-4307-d382-b6a488b8a689"
      },
      "execution_count": 11,
      "outputs": [
        {
          "output_type": "stream",
          "name": "stdout",
          "text": [
            "t\n",
            "h\n"
          ]
        }
      ]
    },
    {
      "cell_type": "code",
      "source": [
        "word='thud'\n",
        "for letter in word:\n",
        "  if letter=='x':\n",
        "    print(\"Eek! an'x'!\")\n",
        "    break\n",
        "  print(letter)\n",
        "else:\n",
        "  print(\"No 'x' in there.\")"
      ],
      "metadata": {
        "colab": {
          "base_uri": "https://localhost:8080/"
        },
        "id": "-ujMsMIP1XOc",
        "outputId": "aba347a0-e0fb-47de-9e0f-530a5a963888"
      },
      "execution_count": 13,
      "outputs": [
        {
          "output_type": "stream",
          "name": "stdout",
          "text": [
            "t\n",
            "h\n",
            "u\n",
            "d\n",
            "No 'x' in there.\n"
          ]
        }
      ]
    },
    {
      "cell_type": "code",
      "source": [
        "list(range(0,3))"
      ],
      "metadata": {
        "colab": {
          "base_uri": "https://localhost:8080/"
        },
        "id": "FYYU9q5k1oxP",
        "outputId": "7e049654-a63c-4bb1-ac16-35ca576ddc83"
      },
      "execution_count": 1,
      "outputs": [
        {
          "output_type": "execute_result",
          "data": {
            "text/plain": [
              "[0, 1, 2]"
            ]
          },
          "metadata": {},
          "execution_count": 1
        }
      ]
    }
  ]
}