{
  "nbformat": 4,
  "nbformat_minor": 0,
  "metadata": {
    "colab": {
      "name": "4과_if",
      "provenance": [],
      "authorship_tag": "ABX9TyMpRDOdwFmiLqNV/BWWsG2c",
      "include_colab_link": true
    },
    "kernelspec": {
      "name": "python3",
      "display_name": "Python 3"
    },
    "language_info": {
      "name": "python"
    }
  },
  "cells": [
    {
      "cell_type": "markdown",
      "metadata": {
        "id": "view-in-github",
        "colab_type": "text"
      },
      "source": [
        "<a href=\"https://colab.research.google.com/github/radanim/Introducing-Python-O-REILLY/blob/master/4%EA%B3%BC_if.ipynb\" target=\"_parent\"><img src=\"https://colab.research.google.com/assets/colab-badge.svg\" alt=\"Open In Colab\"/></a>"
      ]
    },
    {
      "cell_type": "code",
      "execution_count": null,
      "metadata": {
        "id": "7mDvS2nbrS2x"
      },
      "outputs": [],
      "source": [
        "# 파이썬은 프로그램의 구조를 정의하기 위해 공백을 사용하는 흔치않은 언어이다."
      ]
    },
    {
      "cell_type": "code",
      "source": [
        "sum=0\n",
        "sum+=1\n",
        "sum+=2\n",
        "sum+=3\n",
        "sum+=4\n",
        "sum"
      ],
      "metadata": {
        "colab": {
          "base_uri": "https://localhost:8080/"
        },
        "id": "iRmbTaJ5rd-A",
        "outputId": "c6db1d50-5701-4e93-89a3-3fbb6fc1ba44"
      },
      "execution_count": 4,
      "outputs": [
        {
          "output_type": "execute_result",
          "data": {
            "text/plain": [
              "10"
            ]
          },
          "metadata": {},
          "execution_count": 4
        }
      ]
    },
    {
      "cell_type": "code",
      "source": [
        "sum = 1+\\\n",
        "2+\\\n",
        "3+\\\n",
        "4\n",
        "sum"
      ],
      "metadata": {
        "colab": {
          "base_uri": "https://localhost:8080/"
        },
        "id": "Y63F3wi2sB1-",
        "outputId": "0d77db19-7db4-4159-f81a-0077a285dc36"
      },
      "execution_count": 6,
      "outputs": [
        {
          "output_type": "execute_result",
          "data": {
            "text/plain": [
              "10"
            ]
          },
          "metadata": {},
          "execution_count": 6
        }
      ]
    },
    {
      "cell_type": "code",
      "source": [
        "sum=(\n",
        "    1+\n",
        "     2+\n",
        "     3+\n",
        "     4\n",
        ")\n",
        "sum"
      ],
      "metadata": {
        "colab": {
          "base_uri": "https://localhost:8080/"
        },
        "id": "69dAbg1XsXBt",
        "outputId": "7a2f3580-329f-466a-bf30-15fba1fb6a1f"
      },
      "execution_count": 7,
      "outputs": [
        {
          "output_type": "execute_result",
          "data": {
            "text/plain": [
              "10"
            ]
          },
          "metadata": {},
          "execution_count": 7
        }
      ]
    },
    {
      "cell_type": "code",
      "source": [
        "disaster=True\n",
        "if disaster:\n",
        "  print(\"Woe!\")\n",
        "else:\n",
        "  print(\"Whee!\")"
      ],
      "metadata": {
        "colab": {
          "base_uri": "https://localhost:8080/"
        },
        "id": "1Tu5PgtksclR",
        "outputId": "b2fc54f3-c478-484c-cdf1-8d0a4333d1ca"
      },
      "execution_count": 9,
      "outputs": [
        {
          "output_type": "stream",
          "name": "stdout",
          "text": [
            "Woe!\n"
          ]
        }
      ]
    },
    {
      "cell_type": "code",
      "source": [
        "print()은 화면에 객체를 출력하는 파이썬의 내장함수\n",
        "if else는 조건이 True인지 False인지 확인하는 선언문\n",
        "들여쓰기는 4칸의 스페이스"
      ],
      "metadata": {
        "id": "8eeKwmPZup1m"
      },
      "execution_count": null,
      "outputs": []
    },
    {
      "cell_type": "code",
      "source": [
        "비교연산자\n",
        "== 같다\n",
        "!= 다르다\n",
        "<= 보다 작거나 같다.\n",
        ">= 보다 크거나 같다."
      ],
      "metadata": {
        "id": "0Uxczmj-vJ7T"
      },
      "execution_count": null,
      "outputs": []
    },
    {
      "cell_type": "code",
      "source": [
        "x=7\n",
        "5< x and not x>10"
      ],
      "metadata": {
        "colab": {
          "base_uri": "https://localhost:8080/"
        },
        "id": "8P31ULGkvP8s",
        "outputId": "c2264a1f-cc9e-4fca-cca7-b14378d9a047"
      },
      "execution_count": 11,
      "outputs": [
        {
          "output_type": "execute_result",
          "data": {
            "text/plain": [
              "True"
            ]
          },
          "metadata": {},
          "execution_count": 11
        }
      ]
    },
    {
      "cell_type": "code",
      "source": [
        "한 변수에 여러값을 비교할때 파이썬 멤버십 연산자 in 을 사용할 수 있다."
      ],
      "metadata": {
        "id": "06-isHFHvszt"
      },
      "execution_count": null,
      "outputs": []
    },
    {
      "cell_type": "code",
      "source": [
        "vowels='aeiou'\n",
        "letter='o'\n",
        "letter in vowels\n",
        "if letter in vowels:\n",
        "  print(letter,'is a vowel')"
      ],
      "metadata": {
        "colab": {
          "base_uri": "https://localhost:8080/"
        },
        "id": "wwNUEal6wpCI",
        "outputId": "9809d624-0475-48c4-f672-56275c4b49ed"
      },
      "execution_count": 14,
      "outputs": [
        {
          "output_type": "stream",
          "name": "stdout",
          "text": [
            "o is a vowel\n"
          ]
        }
      ]
    },
    {
      "cell_type": "code",
      "source": [
        "딕셔너리의 경우 값대신 키를 본다. "
      ],
      "metadata": {
        "id": "TrNjuknQwzwE"
      },
      "execution_count": null,
      "outputs": []
    },
    {
      "cell_type": "code",
      "source": [
        ""
      ],
      "metadata": {
        "id": "TnomEa3yxCwT"
      },
      "execution_count": null,
      "outputs": []
    },
    {
      "cell_type": "code",
      "source": [
        ""
      ],
      "metadata": {
        "id": "ITLCt9waxesu"
      },
      "execution_count": null,
      "outputs": []
    }
  ]
}