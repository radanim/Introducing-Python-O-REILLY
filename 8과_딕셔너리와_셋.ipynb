{
  "nbformat": 4,
  "nbformat_minor": 0,
  "metadata": {
    "colab": {
      "name": "8과 딕셔너리와 셋",
      "provenance": [],
      "authorship_tag": "ABX9TyNZUX5AK9GpBuycnzC/efBM",
      "include_colab_link": true
    },
    "kernelspec": {
      "name": "python3",
      "display_name": "Python 3"
    },
    "language_info": {
      "name": "python"
    }
  },
  "cells": [
    {
      "cell_type": "markdown",
      "metadata": {
        "id": "view-in-github",
        "colab_type": "text"
      },
      "source": [
        "<a href=\"https://colab.research.google.com/github/radanim/Introducing-Python-O-REILLY/blob/master/8%EA%B3%BC_%EB%94%95%EC%85%94%EB%84%88%EB%A6%AC%EC%99%80_%EC%85%8B.ipynb\" target=\"_parent\"><img src=\"https://colab.research.google.com/assets/colab-badge.svg\" alt=\"Open In Colab\"/></a>"
      ]
    },
    {
      "cell_type": "code",
      "execution_count": null,
      "metadata": {
        "id": "do2Wk_KKGhwk"
      },
      "outputs": [],
      "source": [
        "딕셔너리는 항목의 순서를 따지지 않으며, 0이나 1과 같은 오프셋으로 항목을 선택할 수 없다. \n",
        "값에 상응하는 고유한 키를 지정 "
      ]
    },
    {
      "cell_type": "code",
      "source": [
        "acme_customer=dict(first=\"Wile\",middle=\"E\",last=\"Coyote\")\n",
        "acme_customer"
      ],
      "metadata": {
        "id": "ZlzHKjzhGxyk"
      },
      "execution_count": 1,
      "outputs": []
    },
    {
      "cell_type": "code",
      "source": [
        "acme_customer"
      ],
      "metadata": {
        "colab": {
          "base_uri": "https://localhost:8080/"
        },
        "id": "I0E-HIrHHZpF",
        "outputId": "f7809dfa-daf6-4795-a5ae-4f8e2ec4a5d5"
      },
      "execution_count": 2,
      "outputs": [
        {
          "output_type": "execute_result",
          "data": {
            "text/plain": [
              "{'first': 'Wile', 'last': 'Coyote', 'middle': 'E'}"
            ]
          },
          "metadata": {},
          "execution_count": 2
        }
      ]
    },
    {
      "cell_type": "code",
      "source": [
        "lol=[['a','b'],['c','d'],['e','f']]\n",
        "dict(lol)"
      ],
      "metadata": {
        "colab": {
          "base_uri": "https://localhost:8080/"
        },
        "id": "qSekI2S1Hcgi",
        "outputId": "5f103f60-0785-47b5-add6-7ae27b3bda09"
      },
      "execution_count": 4,
      "outputs": [
        {
          "output_type": "execute_result",
          "data": {
            "text/plain": [
              "{'a': 'b', 'c': 'd', 'e': 'f'}"
            ]
          },
          "metadata": {},
          "execution_count": 4
        }
      ]
    },
    {
      "cell_type": "code",
      "source": [
        "los=['ab','cd','ef']\n",
        "dict(los)"
      ],
      "metadata": {
        "colab": {
          "base_uri": "https://localhost:8080/"
        },
        "id": "I-4sYb9bIx3S",
        "outputId": "9e2fd07f-e2ab-4f48-a485-d4ce088d4ef3"
      },
      "execution_count": 6,
      "outputs": [
        {
          "output_type": "execute_result",
          "data": {
            "text/plain": [
              "{'a': 'b', 'c': 'd', 'e': 'f'}"
            ]
          },
          "metadata": {},
          "execution_count": 6
        }
      ]
    },
    {
      "cell_type": "code",
      "source": [
        "'a' in dict(los)"
      ],
      "metadata": {
        "colab": {
          "base_uri": "https://localhost:8080/"
        },
        "id": "vRtx_E8tKCLi",
        "outputId": "7e790307-c08d-4c23-ad82-c7f774c86095"
      },
      "execution_count": 13,
      "outputs": [
        {
          "output_type": "execute_result",
          "data": {
            "text/plain": [
              "True"
            ]
          },
          "metadata": {},
          "execution_count": 13
        }
      ]
    },
    {
      "cell_type": "code",
      "source": [
        "dict(los).get('a')"
      ],
      "metadata": {
        "colab": {
          "base_uri": "https://localhost:8080/",
          "height": 35
        },
        "id": "kaK1M6meKG5H",
        "outputId": "9a86de4b-f5ac-4cfd-b6c0-b34ee49cb871"
      },
      "execution_count": 14,
      "outputs": [
        {
          "output_type": "execute_result",
          "data": {
            "text/plain": [
              "'b'"
            ],
            "application/vnd.google.colaboratory.intrinsic+json": {
              "type": "string"
            }
          },
          "metadata": {},
          "execution_count": 14
        }
      ]
    },
    {
      "cell_type": "code",
      "source": [
        "signals={'green':'go','yellow':'go faster','red':'smale for the camera'}\n",
        "signals.keys()"
      ],
      "metadata": {
        "colab": {
          "base_uri": "https://localhost:8080/"
        },
        "id": "X3YDOK8cKSAj",
        "outputId": "9d26a530-3cea-4d86-fb7b-06a059d54b8b"
      },
      "execution_count": 15,
      "outputs": [
        {
          "output_type": "execute_result",
          "data": {
            "text/plain": [
              "dict_keys(['green', 'yellow', 'red'])"
            ]
          },
          "metadata": {},
          "execution_count": 15
        }
      ]
    },
    {
      "cell_type": "code",
      "source": [
        "list(signals.keys())"
      ],
      "metadata": {
        "colab": {
          "base_uri": "https://localhost:8080/"
        },
        "id": "fymf2orvKjqV",
        "outputId": "4294d81b-4bc9-4110-f6fd-b6560be8a678"
      },
      "execution_count": 16,
      "outputs": [
        {
          "output_type": "execute_result",
          "data": {
            "text/plain": [
              "['green', 'yellow', 'red']"
            ]
          },
          "metadata": {},
          "execution_count": 16
        }
      ]
    },
    {
      "cell_type": "code",
      "source": [
        "list(signals.values())"
      ],
      "metadata": {
        "colab": {
          "base_uri": "https://localhost:8080/"
        },
        "id": "1NuQJYFrKukJ",
        "outputId": "497dbd1d-abe8-4d57-b99d-a5214baabe07"
      },
      "execution_count": 17,
      "outputs": [
        {
          "output_type": "execute_result",
          "data": {
            "text/plain": [
              "['go', 'go faster', 'smale for the camera']"
            ]
          },
          "metadata": {},
          "execution_count": 17
        }
      ]
    },
    {
      "cell_type": "code",
      "source": [
        "list(signals.items())"
      ],
      "metadata": {
        "colab": {
          "base_uri": "https://localhost:8080/"
        },
        "id": "diJV5mlAK32_",
        "outputId": "f49f526b-09d3-4711-cf2a-6ac2b879966f"
      },
      "execution_count": 18,
      "outputs": [
        {
          "output_type": "execute_result",
          "data": {
            "text/plain": [
              "[('green', 'go'), ('yellow', 'go faster'), ('red', 'smale for the camera')]"
            ]
          },
          "metadata": {},
          "execution_count": 18
        }
      ]
    },
    {
      "cell_type": "code",
      "source": [
        "first={'a':'agony','b':'bliss'}\n",
        "second={'b':'bagels','c':'candy'}\n",
        "{**first, **second}"
      ],
      "metadata": {
        "colab": {
          "base_uri": "https://localhost:8080/"
        },
        "id": "3N1kQrftLIK7",
        "outputId": "6a57628e-157d-4790-f609-bca7802c71ff"
      },
      "execution_count": 19,
      "outputs": [
        {
          "output_type": "execute_result",
          "data": {
            "text/plain": [
              "{'a': 'agony', 'b': 'bagels', 'c': 'candy'}"
            ]
          },
          "metadata": {},
          "execution_count": 19
        }
      ]
    },
    {
      "cell_type": "code",
      "source": [
        "third={'d':'donuts'}\n",
        "{**first, **third, **second}"
      ],
      "metadata": {
        "colab": {
          "base_uri": "https://localhost:8080/"
        },
        "id": "S3MEx1aPLTdd",
        "outputId": "450d68b3-f642-4a6f-91b7-ce0cc2b33519"
      },
      "execution_count": 21,
      "outputs": [
        {
          "output_type": "execute_result",
          "data": {
            "text/plain": [
              "{'a': 'agony', 'b': 'bagels', 'c': 'candy', 'd': 'donuts'}"
            ]
          },
          "metadata": {},
          "execution_count": 21
        }
      ]
    },
    {
      "cell_type": "code",
      "source": [
        "first={'a':1,'b':2}\n",
        "second={'b':'platypus'}\n",
        "first.update(second)\n",
        "first"
      ],
      "metadata": {
        "colab": {
          "base_uri": "https://localhost:8080/"
        },
        "id": "vhcPUzEkL3Gu",
        "outputId": "e48a8c2d-6297-4829-82e0-47da12089899"
      },
      "execution_count": 23,
      "outputs": [
        {
          "output_type": "execute_result",
          "data": {
            "text/plain": [
              "{'a': 1, 'b': 'platypus'}"
            ]
          },
          "metadata": {},
          "execution_count": 23
        }
      ]
    },
    {
      "cell_type": "code",
      "source": [
        "#얕은 복사 copy()\n",
        "signals={'green':'go','yellow':'go faster','red':'smile for the camera'}\n",
        "original_signals=signals.copy()\n",
        "signals['blue']='confuse everyone'\n",
        "signals\n",
        "original_signals"
      ],
      "metadata": {
        "colab": {
          "base_uri": "https://localhost:8080/"
        },
        "id": "0sS3QaG-Oo5F",
        "outputId": "95b037cd-0f33-4a24-9970-54aa4c06a637"
      },
      "execution_count": 24,
      "outputs": [
        {
          "output_type": "execute_result",
          "data": {
            "text/plain": [
              "{'green': 'go', 'red': 'smile for the camera', 'yellow': 'go faster'}"
            ]
          },
          "metadata": {},
          "execution_count": 24
        }
      ]
    },
    {
      "cell_type": "code",
      "source": [
        "signals"
      ],
      "metadata": {
        "colab": {
          "base_uri": "https://localhost:8080/"
        },
        "id": "b-s8tdx7UMKB",
        "outputId": "76672f97-69cc-4d58-b3e9-77dd7642f9fa"
      },
      "execution_count": 25,
      "outputs": [
        {
          "output_type": "execute_result",
          "data": {
            "text/plain": [
              "{'blue': 'confuse everyone',\n",
              " 'green': 'go',\n",
              " 'red': 'smile for the camera',\n",
              " 'yellow': 'go faster'}"
            ]
          },
          "metadata": {},
          "execution_count": 25
        }
      ]
    },
    {
      "cell_type": "code",
      "source": [
        "accusation={'room':'ballroom','weapon':'lead pipe','person':'Col.Mustard'}\n",
        "for card in accusation:\n",
        "  print(card)"
      ],
      "metadata": {
        "colab": {
          "base_uri": "https://localhost:8080/"
        },
        "id": "_XXZvAzPUOdi",
        "outputId": "6d508b0d-50ba-40e9-b96a-430a531eb5bd"
      },
      "execution_count": 27,
      "outputs": [
        {
          "output_type": "stream",
          "name": "stdout",
          "text": [
            "room\n",
            "weapon\n",
            "person\n"
          ]
        }
      ]
    },
    {
      "cell_type": "code",
      "source": [
        "for value in accusation.values():\n",
        "  print(value)"
      ],
      "metadata": {
        "colab": {
          "base_uri": "https://localhost:8080/"
        },
        "id": "hcVN-9DbVw00",
        "outputId": "11d92dbc-e2f9-4f86-a25c-73fa05ad7873"
      },
      "execution_count": 28,
      "outputs": [
        {
          "output_type": "stream",
          "name": "stdout",
          "text": [
            "ballroom\n",
            "lead pipe\n",
            "Col.Mustard\n"
          ]
        }
      ]
    },
    {
      "cell_type": "code",
      "source": [
        "for item in accusation.items():\n",
        "  print(item)"
      ],
      "metadata": {
        "colab": {
          "base_uri": "https://localhost:8080/"
        },
        "id": "bq1Z2cGEV0lN",
        "outputId": "06d32d8c-6a48-4524-ec20-0c515f203d0c"
      },
      "execution_count": 29,
      "outputs": [
        {
          "output_type": "stream",
          "name": "stdout",
          "text": [
            "('room', 'ballroom')\n",
            "('weapon', 'lead pipe')\n",
            "('person', 'Col.Mustard')\n"
          ]
        }
      ]
    },
    {
      "cell_type": "code",
      "source": [
        "for card, contents in accusation.items():\n",
        "  print('Card',card,'has the contents',contents)"
      ],
      "metadata": {
        "colab": {
          "base_uri": "https://localhost:8080/"
        },
        "id": "Vp2bxsTwV5Nq",
        "outputId": "3844a19e-703a-462b-f853-b8911a399df4"
      },
      "execution_count": 30,
      "outputs": [
        {
          "output_type": "stream",
          "name": "stdout",
          "text": [
            "Card room has the contents ballroom\n",
            "Card weapon has the contents lead pipe\n",
            "Card person has the contents Col.Mustard\n"
          ]
        }
      ]
    },
    {
      "cell_type": "code",
      "source": [
        "word='letters'\n",
        "letter_counts={i:word.count(i) for i in word}\n",
        "letter_counts"
      ],
      "metadata": {
        "colab": {
          "base_uri": "https://localhost:8080/"
        },
        "id": "N2xjmqTQWDHp",
        "outputId": "af0f6901-5d2f-4759-a7ed-44ecba0f5865"
      },
      "execution_count": 33,
      "outputs": [
        {
          "output_type": "execute_result",
          "data": {
            "text/plain": [
              "{'e': 2, 'l': 1, 'r': 1, 's': 1, 't': 2}"
            ]
          },
          "metadata": {},
          "execution_count": 33
        }
      ]
    },
    {
      "cell_type": "code",
      "source": [
        "letter_counts={i:word.count(i) for i in set(word)}\n",
        "letter_counts"
      ],
      "metadata": {
        "colab": {
          "base_uri": "https://localhost:8080/"
        },
        "id": "5QJSNmzkXgys",
        "outputId": "183ed925-fe85-4e7b-ce3f-c1b8658f4787"
      },
      "execution_count": 34,
      "outputs": [
        {
          "output_type": "execute_result",
          "data": {
            "text/plain": [
              "{'e': 2, 'l': 1, 'r': 1, 's': 1, 't': 2}"
            ]
          },
          "metadata": {},
          "execution_count": 34
        }
      ]
    },
    {
      "cell_type": "code",
      "source": [
        "vowels='aeiou'\n",
        "word='onomatopoeia'\n",
        "vowel_counts={letter:word.count(letter) for letter in set(word) if letter in vowels}\n",
        "vowel_counts"
      ],
      "metadata": {
        "colab": {
          "base_uri": "https://localhost:8080/"
        },
        "id": "yjFE-tyDXpkK",
        "outputId": "75be0cfa-60b2-4848-8a64-6c6ad45fc9eb"
      },
      "execution_count": 35,
      "outputs": [
        {
          "output_type": "execute_result",
          "data": {
            "text/plain": [
              "{'a': 2, 'e': 1, 'i': 1, 'o': 4}"
            ]
          },
          "metadata": {},
          "execution_count": 35
        }
      ]
    },
    {
      "cell_type": "code",
      "source": [
        "set('letters')"
      ],
      "metadata": {
        "colab": {
          "base_uri": "https://localhost:8080/"
        },
        "id": "1IJVN4mcYdOY",
        "outputId": "9e524b51-2dd3-466d-91b8-5965f8895627"
      },
      "execution_count": 36,
      "outputs": [
        {
          "output_type": "execute_result",
          "data": {
            "text/plain": [
              "{'e', 'l', 'r', 's', 't'}"
            ]
          },
          "metadata": {},
          "execution_count": 36
        }
      ]
    },
    {
      "cell_type": "code",
      "source": [
        "set({'apple':'red','orange':'orange','cherry':'red'})"
      ],
      "metadata": {
        "colab": {
          "base_uri": "https://localhost:8080/"
        },
        "id": "O636l-cJZSFQ",
        "outputId": "d66cfe83-c0f9-4112-a0b8-681deca3f425"
      },
      "execution_count": 37,
      "outputs": [
        {
          "output_type": "execute_result",
          "data": {
            "text/plain": [
              "{'apple', 'cherry', 'orange'}"
            ]
          },
          "metadata": {},
          "execution_count": 37
        }
      ]
    },
    {
      "cell_type": "code",
      "source": [
        "s=set((1,2,3))\n",
        "s.add(4)\n",
        "s"
      ],
      "metadata": {
        "colab": {
          "base_uri": "https://localhost:8080/"
        },
        "id": "v5SgExoOn2J1",
        "outputId": "6bcc1ed0-0191-4b12-bee5-664eee74c526"
      },
      "execution_count": 39,
      "outputs": [
        {
          "output_type": "execute_result",
          "data": {
            "text/plain": [
              "{1, 2, 3, 4}"
            ]
          },
          "metadata": {},
          "execution_count": 39
        }
      ]
    },
    {
      "cell_type": "code",
      "source": [
        "s.remove(3)\n"
      ],
      "metadata": {
        "colab": {
          "base_uri": "https://localhost:8080/",
          "height": 192
        },
        "id": "FFbyuMDRoifQ",
        "outputId": "82d944b0-f88f-45b6-e5bf-29057fd76f15"
      },
      "execution_count": 41,
      "outputs": [
        {
          "output_type": "error",
          "ename": "KeyError",
          "evalue": "ignored",
          "traceback": [
            "\u001b[0;31m---------------------------------------------------------------------------\u001b[0m",
            "\u001b[0;31mKeyError\u001b[0m                                  Traceback (most recent call last)",
            "\u001b[0;32m<ipython-input-41-fbce4b2eec0c>\u001b[0m in \u001b[0;36m<module>\u001b[0;34m()\u001b[0m\n\u001b[0;32m----> 1\u001b[0;31m \u001b[0ms\u001b[0m\u001b[0;34m.\u001b[0m\u001b[0mremove\u001b[0m\u001b[0;34m(\u001b[0m\u001b[0;36m3\u001b[0m\u001b[0;34m)\u001b[0m\u001b[0;34m\u001b[0m\u001b[0;34m\u001b[0m\u001b[0m\n\u001b[0m\u001b[1;32m      2\u001b[0m \u001b[0ms\u001b[0m\u001b[0;34m\u001b[0m\u001b[0;34m\u001b[0m\u001b[0m\n",
            "\u001b[0;31mKeyError\u001b[0m: 3"
          ]
        }
      ]
    },
    {
      "cell_type": "code",
      "source": [
        "s"
      ],
      "metadata": {
        "colab": {
          "base_uri": "https://localhost:8080/"
        },
        "id": "J2Yc3Wc9ooYj",
        "outputId": "466871c6-7a0a-4ff4-c699-bbd9f51ebb2e"
      },
      "execution_count": 42,
      "outputs": [
        {
          "output_type": "execute_result",
          "data": {
            "text/plain": [
              "{1, 2, 4}"
            ]
          },
          "metadata": {},
          "execution_count": 42
        }
      ]
    },
    {
      "cell_type": "code",
      "source": [
        "drinks={\n",
        "    'martini':{'vodka','vermouth'},\n",
        "    'black russian':{'vodka','kahlua'},\n",
        "    'white russian':{'cream','kahlua','vodka'},\n",
        "    'manhattan':{'rye','vermouth','bitters'},\n",
        "    'screwdriver':{'orange juice','vodka'}\n",
        "}\n",
        "\n",
        "for name, contents in drinks.items():\n",
        "  if 'vodka' in contents:\n",
        "    print(name)"
      ],
      "metadata": {
        "colab": {
          "base_uri": "https://localhost:8080/"
        },
        "id": "2FBG7oKTopPl",
        "outputId": "21c47759-b4b0-4083-8b53-6d8d78724dcc"
      },
      "execution_count": 46,
      "outputs": [
        {
          "output_type": "stream",
          "name": "stdout",
          "text": [
            "martini\n",
            "black russian\n",
            "white russian\n",
            "screwdriver\n"
          ]
        }
      ]
    },
    {
      "cell_type": "code",
      "source": [
        "for name, contents in drinks.items():\n",
        "  if 'vodka' in contents and not('vermouth' in contents or 'cream' in contents):\n",
        "    print(name)"
      ],
      "metadata": {
        "colab": {
          "base_uri": "https://localhost:8080/"
        },
        "id": "VWdbXZtppOdr",
        "outputId": "3a3ca9ca-e23e-44c5-cdbd-f6487666fbdf"
      },
      "execution_count": 47,
      "outputs": [
        {
          "output_type": "stream",
          "name": "stdout",
          "text": [
            "black russian\n",
            "screwdriver\n"
          ]
        }
      ]
    },
    {
      "cell_type": "code",
      "source": [
        "for name, contents in drinks.items():\n",
        "  if contents & {'vermouth','orange juice'}:\n",
        "    print(name)"
      ],
      "metadata": {
        "colab": {
          "base_uri": "https://localhost:8080/"
        },
        "id": "V-SVxYLlpkZD",
        "outputId": "614a6fbf-e66e-4387-ab85-28a9827d8db1"
      },
      "execution_count": 48,
      "outputs": [
        {
          "output_type": "stream",
          "name": "stdout",
          "text": [
            "martini\n",
            "manhattan\n",
            "screwdriver\n"
          ]
        }
      ]
    },
    {
      "cell_type": "code",
      "source": [
        "for name, contents in drinks.items():\n",
        "  if 'vodka' in contents and not contents & {'vermouth','cream'}:\n",
        "    print(name)"
      ],
      "metadata": {
        "colab": {
          "base_uri": "https://localhost:8080/"
        },
        "id": "azK1PM93ps1C",
        "outputId": "39638be2-731c-4fbe-b04d-7feb2f8b3ea1"
      },
      "execution_count": 49,
      "outputs": [
        {
          "output_type": "stream",
          "name": "stdout",
          "text": [
            "black russian\n",
            "screwdriver\n"
          ]
        }
      ]
    },
    {
      "cell_type": "code",
      "source": [
        "a={1,2}\n",
        "b={2,3}\n",
        "a&b"
      ],
      "metadata": {
        "colab": {
          "base_uri": "https://localhost:8080/"
        },
        "id": "VUan6jtlquRM",
        "outputId": "3bb54226-9927-4197-8ea8-5546cc80e555"
      },
      "execution_count": 50,
      "outputs": [
        {
          "output_type": "execute_result",
          "data": {
            "text/plain": [
              "{2}"
            ]
          },
          "metadata": {},
          "execution_count": 50
        }
      ]
    },
    {
      "cell_type": "code",
      "source": [
        "a.intersection(b)"
      ],
      "metadata": {
        "colab": {
          "base_uri": "https://localhost:8080/"
        },
        "id": "05doyRhiq2vI",
        "outputId": "61d48dd4-af97-4068-90d4-d89a71ef7974"
      },
      "execution_count": 51,
      "outputs": [
        {
          "output_type": "execute_result",
          "data": {
            "text/plain": [
              "{2}"
            ]
          },
          "metadata": {},
          "execution_count": 51
        }
      ]
    },
    {
      "cell_type": "code",
      "source": [
        "a|b"
      ],
      "metadata": {
        "colab": {
          "base_uri": "https://localhost:8080/"
        },
        "id": "k5GhsECwq4Hd",
        "outputId": "7178df17-c32b-40cf-d843-dee4b8676a10"
      },
      "execution_count": 52,
      "outputs": [
        {
          "output_type": "execute_result",
          "data": {
            "text/plain": [
              "{1, 2, 3}"
            ]
          },
          "metadata": {},
          "execution_count": 52
        }
      ]
    },
    {
      "cell_type": "code",
      "source": [
        "a.union(b)"
      ],
      "metadata": {
        "colab": {
          "base_uri": "https://localhost:8080/"
        },
        "id": "3rdzL9rWq56T",
        "outputId": "5f725cf7-de1b-433f-e268-4502d5f4d44c"
      },
      "execution_count": 54,
      "outputs": [
        {
          "output_type": "execute_result",
          "data": {
            "text/plain": [
              "{1, 2, 3}"
            ]
          },
          "metadata": {},
          "execution_count": 54
        }
      ]
    },
    {
      "cell_type": "code",
      "source": [
        "a-b"
      ],
      "metadata": {
        "colab": {
          "base_uri": "https://localhost:8080/"
        },
        "id": "rtsUE7Vyq8kd",
        "outputId": "ee6ac83b-0d0d-41b1-872f-63edb15071c9"
      },
      "execution_count": 55,
      "outputs": [
        {
          "output_type": "execute_result",
          "data": {
            "text/plain": [
              "{1}"
            ]
          },
          "metadata": {},
          "execution_count": 55
        }
      ]
    },
    {
      "cell_type": "code",
      "source": [
        "a.difference(b)"
      ],
      "metadata": {
        "colab": {
          "base_uri": "https://localhost:8080/"
        },
        "id": "yPy-TrrDq92l",
        "outputId": "772d177d-a70d-43ed-d761-2eb878f50c32"
      },
      "execution_count": 56,
      "outputs": [
        {
          "output_type": "execute_result",
          "data": {
            "text/plain": [
              "{1}"
            ]
          },
          "metadata": {},
          "execution_count": 56
        }
      ]
    },
    {
      "cell_type": "code",
      "source": [
        "a^b"
      ],
      "metadata": {
        "colab": {
          "base_uri": "https://localhost:8080/"
        },
        "id": "D6KEqOW0rA36",
        "outputId": "04a5d7e5-edfc-44c2-a5f9-709c776347c6"
      },
      "execution_count": 57,
      "outputs": [
        {
          "output_type": "execute_result",
          "data": {
            "text/plain": [
              "{1, 3}"
            ]
          },
          "metadata": {},
          "execution_count": 57
        }
      ]
    },
    {
      "cell_type": "code",
      "source": [
        "a.symmetric_difference(b)"
      ],
      "metadata": {
        "colab": {
          "base_uri": "https://localhost:8080/"
        },
        "id": "7oMjXc8KrCDi",
        "outputId": "2e7716b2-687d-46d9-b7e3-5abb3772c8bb"
      },
      "execution_count": 58,
      "outputs": [
        {
          "output_type": "execute_result",
          "data": {
            "text/plain": [
              "{1, 3}"
            ]
          },
          "metadata": {},
          "execution_count": 58
        }
      ]
    },
    {
      "cell_type": "code",
      "source": [
        "a_set={number for number in range(1,6) if number % 3 ==1}\n",
        "a_set"
      ],
      "metadata": {
        "colab": {
          "base_uri": "https://localhost:8080/"
        },
        "id": "ai1k3yzerE4C",
        "outputId": "8d0444fe-b17b-412f-8ab2-77c61a861b11"
      },
      "execution_count": 60,
      "outputs": [
        {
          "output_type": "execute_result",
          "data": {
            "text/plain": [
              "{1, 4}"
            ]
          },
          "metadata": {},
          "execution_count": 60
        }
      ]
    },
    {
      "cell_type": "code",
      "source": [
        "marxes=['Groucho','Chico','Harpo']\n",
        "pythons=['Chapman','Cleese','Gilliam','Jones','Palin']\n",
        "stooges=['Moe','Curly','Larry']"
      ],
      "metadata": {
        "id": "Thgb4YN7rXgd"
      },
      "execution_count": 61,
      "outputs": []
    },
    {
      "cell_type": "code",
      "source": [
        "tuple_lists=marxes,pythons,stooges\n",
        "tuple_lists"
      ],
      "metadata": {
        "colab": {
          "base_uri": "https://localhost:8080/"
        },
        "id": "nDLw4StfsFbC",
        "outputId": "ab93f877-250b-4039-fab0-82d1381eba80"
      },
      "execution_count": 63,
      "outputs": [
        {
          "output_type": "execute_result",
          "data": {
            "text/plain": [
              "(['Groucho', 'Chico', 'Harpo'],\n",
              " ['Chapman', 'Cleese', 'Gilliam', 'Jones', 'Palin'],\n",
              " ['Moe', 'Curly', 'Larry'])"
            ]
          },
          "metadata": {},
          "execution_count": 63
        }
      ]
    },
    {
      "cell_type": "code",
      "source": [
        "list_of_lists=[marxes,pythons,stooges]\n",
        "list_of_lists"
      ],
      "metadata": {
        "colab": {
          "base_uri": "https://localhost:8080/"
        },
        "id": "019hWScTsKc-",
        "outputId": "957294e9-436a-499b-867b-92d931acb5f9"
      },
      "execution_count": 65,
      "outputs": [
        {
          "output_type": "execute_result",
          "data": {
            "text/plain": [
              "[['Groucho', 'Chico', 'Harpo'],\n",
              " ['Chapman', 'Cleese', 'Gilliam', 'Jones', 'Palin'],\n",
              " ['Moe', 'Curly', 'Larry']]"
            ]
          },
          "metadata": {},
          "execution_count": 65
        }
      ]
    },
    {
      "cell_type": "code",
      "source": [
        "dict_of_lists={'Marxes':marxes,'Pythons':pythons,'Stooges':stooges}\n",
        "dict_of_lists"
      ],
      "metadata": {
        "colab": {
          "base_uri": "https://localhost:8080/"
        },
        "id": "L1t8UwBEsTCi",
        "outputId": "a2206bb8-50e1-4290-b0eb-7be961940416"
      },
      "execution_count": 66,
      "outputs": [
        {
          "output_type": "execute_result",
          "data": {
            "text/plain": [
              "{'Marxes': ['Groucho', 'Chico', 'Harpo'],\n",
              " 'Pythons': ['Chapman', 'Cleese', 'Gilliam', 'Jones', 'Palin'],\n",
              " 'Stooges': ['Moe', 'Curly', 'Larry']}"
            ]
          },
          "metadata": {},
          "execution_count": 66
        }
      ]
    },
    {
      "cell_type": "code",
      "source": [
        ""
      ],
      "metadata": {
        "id": "b1O3vcI0scNA"
      },
      "execution_count": null,
      "outputs": []
    }
  ]
}